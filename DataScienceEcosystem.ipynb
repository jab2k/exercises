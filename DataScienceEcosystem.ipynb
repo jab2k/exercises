{
 "cells": [
  {
   "cell_type": "markdown",
   "id": "bd27dc6c-6771-4b91-8100-c9341ec9b32e",
   "metadata": {},
   "source": [
    "# Data Science Tools and Ecosystem"
   ]
  },
  {
   "cell_type": "markdown",
   "id": "432b29e5-8229-4268-8bb2-8ef85e08abf2",
   "metadata": {},
   "source": [
    "In this notebook, Data Science Tools and Ecosystem are summarized."
   ]
  },
  {
   "cell_type": "markdown",
   "id": "11ee174a-7dc9-4dfb-81e9-77caa42fbe80",
   "metadata": {},
   "source": [
    "Some of the popular languages that Data Scientists use are:\n",
    "1. Python\n",
    "2. R\n",
    "3. SQL"
   ]
  },
  {
   "cell_type": "markdown",
   "id": "404467ee-32be-4660-812d-b82da0c59da8",
   "metadata": {},
   "source": [
    "Some of the commonly used libraries used by Data Scientists include:\n",
    "1. pandas\n",
    "2. numpy\n",
    "3. plotly"
   ]
  },
  {
   "cell_type": "markdown",
   "id": "f914772c-88d6-4ab5-abdc-d8485aecadf9",
   "metadata": {},
   "source": [
    "| Data Science Tools |\n",
    "|--------------------|\n",
    "| Jupyter Notebook   |\n",
    "| RStudio            |\n",
    "| Spyder             |"
   ]
  },
  {
   "cell_type": "markdown",
   "id": "722bcaa4-9e75-43f8-ba82-3580d520c592",
   "metadata": {},
   "source": [
    "### Below are a few examples of evaluating arithmetic expressions in Python"
   ]
  },
  {
   "cell_type": "code",
   "execution_count": 2,
   "id": "48e4d83f-0c8c-40fa-9a01-58b69a1c6696",
   "metadata": {},
   "outputs": [
    {
     "data": {
      "text/plain": [
       "17"
      ]
     },
     "execution_count": 2,
     "metadata": {},
     "output_type": "execute_result"
    }
   ],
   "source": [
    "# This a simple arithmetic expression to mutiply then add integers\n",
    "( 3 * 4 ) + 5"
   ]
  },
  {
   "cell_type": "code",
   "execution_count": 4,
   "id": "d3cf8928-f8a5-43cf-bc36-7e9d7804b2c3",
   "metadata": {},
   "outputs": [
    {
     "data": {
      "text/plain": [
       "3.3333333333333335"
      ]
     },
     "execution_count": 4,
     "metadata": {},
     "output_type": "execute_result"
    }
   ],
   "source": [
    "# This will convert 200 minutes to hours by diving by 60\n",
    "200 / 60"
   ]
  },
  {
   "cell_type": "markdown",
   "id": "e7436d4e-f3b0-4bb1-babe-15c4ba89a2eb",
   "metadata": {},
   "source": [
    "**Objectives:**\n",
    "\n",
    "- List popular languages for Data Science  \n",
    "- Identify commonly used Data Science libraries  \n",
    "- Create and run arithmetic expressions in Python  \n",
    "- Convert minutes to hours using Python code  \n",
    "- Create tables and lists using Markdown\n",
    "  "
   ]
  },
  {
   "cell_type": "markdown",
   "id": "ed97cecd-48d4-4b6c-b1ea-a951b72b30d4",
   "metadata": {},
   "source": [
    "## Author\n",
    "Apostolos Lytras"
   ]
  },
  {
   "cell_type": "code",
   "execution_count": null,
   "id": "b060e0a6-44d2-45af-bd3f-a7f59f8745f7",
   "metadata": {},
   "outputs": [],
   "source": []
  }
 ],
 "metadata": {
  "kernelspec": {
   "display_name": "Python 3 (ipykernel)",
   "language": "python",
   "name": "python3"
  },
  "language_info": {
   "codemirror_mode": {
    "name": "ipython",
    "version": 3
   },
   "file_extension": ".py",
   "mimetype": "text/x-python",
   "name": "python",
   "nbconvert_exporter": "python",
   "pygments_lexer": "ipython3",
   "version": "3.12.2"
  }
 },
 "nbformat": 4,
 "nbformat_minor": 5
}
